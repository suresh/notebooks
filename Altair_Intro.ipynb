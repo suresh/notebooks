{
  "cells": [
    {
      "cell_type": "markdown",
      "source": [
        "# Basic Statistical Visualization\n",
        "\n",
        "This tutorial will guide you through the basic process of creating visualizations in Altair. First, you will need to make sure you have the Altair package and its dependencies installed (see Installation) and make sure you understand how altair plots are displayed (see Displaying Altair Charts). This tutorial will assume you are working within a Jupyter notebook user interface, so that plots are automatically rendered.\n",
        "\n",
        "Here is the outline of this basic tutorial:\n",
        "\n",
        "- The Data\n",
        "- Encodings and Marks\n",
        "- Data Transformation: Aggregation\n",
        "- Customizing your Visualization\n",
        "- Publishing your Visualization\n",
        "\n",
        "## The Data\n",
        "\n",
        "Data in Altair is built around the Pandas Dataframe. One of the defining characteristics of statistical visualization is that it begins with tidy Dataframes. For the purposes of this tutorial, we’ll start by importing Pandas and creating a simple DataFrame to visualize, with a categorical variable in column a and a numerical variable in column b:\n",
        "\n",
        "```python\n",
        "import pandas as pd\n",
        "data = pd.DataFrame({'a': list('CCCDDDEEE'),\n",
        "                     'b': [2, 7, 4, 1, 2, 6, 8, 4, 7]})\n",
        "```\n",
        "\n",
        "When using Altair, datasets are most commonly provided as a Dataframe. As we will see, the labeled columns of the dataframe are an essential piece of plotting with Altair.\n",
        "\n",
        "## The Chart Object\n",
        "\n",
        "The fundamental object in Altair is the Chart, which takes a dataframe as a single argument:\n",
        "\n",
        "```python\n",
        "import altair as alt\n",
        "chart = alt.Chart(data)\n",
        "```\n",
        "\n",
        "So far, we have defined the Chart object, but we have not yet told the chart to do anything with the data. That will come next."
      ],
      "metadata": {
        "nteract": {
          "transient": {
            "deleting": false
          }
        }
      }
    },
    {
      "cell_type": "code",
      "source": [],
      "outputs": [],
      "execution_count": null,
      "metadata": {
        "collapsed": true,
        "outputExpanded": false,
        "jupyter": {
          "source_hidden": false,
          "outputs_hidden": false
        },
        "nteract": {
          "transient": {
            "deleting": false
          }
        }
      }
    }
  ],
  "metadata": {
    "kernel_info": {
      "name": "python3"
    },
    "language_info": {
      "name": "python",
      "version": "3.7.4",
      "mimetype": "text/x-python",
      "codemirror_mode": {
        "name": "ipython",
        "version": 3
      },
      "pygments_lexer": "ipython3",
      "nbconvert_exporter": "python",
      "file_extension": ".py"
    },
    "kernelspec": {
      "argv": [
        "/Users/suresh/miniconda3/bin/python",
        "-m",
        "ipykernel_launcher",
        "-f",
        "{connection_file}"
      ],
      "display_name": "Python 3",
      "language": "python",
      "name": "python3"
    },
    "nteract": {
      "version": "0.23.1"
    }
  },
  "nbformat": 4,
  "nbformat_minor": 0
}